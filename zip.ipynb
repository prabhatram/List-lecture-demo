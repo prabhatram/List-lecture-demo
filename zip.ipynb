{
 "cells": [
  {
   "cell_type": "code",
   "execution_count": 2,
   "metadata": {},
   "outputs": [
    {
     "name": "stdout",
     "output_type": "stream",
     "text": [
      "<zip object at 0x1046ea000>\n",
      "[(22, 'rooms'), (9, 'buildings'), (87, 'cities'), (43, 'districts'), (17, 'states')]\n",
      "(22, 9, 87, 43, 17)\n",
      "('rooms', 'buildings', 'cities', 'districts', 'states')\n"
     ]
    }
   ],
   "source": [
    "some_list1 = [22, 9, 87, 43, 17]\n",
    "some_list2 = ['rooms', 'buildings','cities', 'districts', 'states']\n",
    "zipped_data = zip(some_list1, some_list2)\n",
    "print(zipped_data)\n",
    "\n",
    "# Must convert it to a list\n",
    "zipped_list = list(zipped_data)\n",
    "print(zipped_list)\n",
    "\n",
    "# Unzipping\n",
    "numbers, words = zip(*zipped_list)\n",
    "print(numbers)\n",
    "print(words)\n",
    "\n"
   ]
  },
  {
   "cell_type": "markdown",
   "metadata": {},
   "source": [
    "List comprehension:"
   ]
  },
  {
   "cell_type": "code",
   "execution_count": 3,
   "metadata": {},
   "outputs": [
    {
     "name": "stdout",
     "output_type": "stream",
     "text": [
      "[2, 6, 8, 22, 46]\n"
     ]
    }
   ],
   "source": [
    "#Following is what List Comprehension helps make concise\n",
    "my_list = [2, 3, 5, 6, 8, 22, 46, 89]\n",
    "result = []\n",
    "for value in my_list:\n",
    "  if value % 2 == 0:\n",
    "    result.append(value)\n",
    "print(result)"
   ]
  },
  {
   "cell_type": "code",
   "execution_count": 16,
   "metadata": {},
   "outputs": [
    {
     "name": "stdout",
     "output_type": "stream",
     "text": [
      "[2, 6, 8, 22, 46]\n"
     ]
    }
   ],
   "source": [
    "my_list = [2, 3, 5, 6, 8, 22, 46, 89]\n",
    "even_result = [value for value in my_list if value % 2 == 0]\n",
    "print(even_result)\n"
   ]
  },
  {
   "cell_type": "code",
   "execution_count": 17,
   "metadata": {},
   "outputs": [
    {
     "name": "stdout",
     "output_type": "stream",
     "text": [
      "[3, 5, 89]\n"
     ]
    }
   ],
   "source": [
    "my_list = [2, 3, 5, 6, 8, 22, 46, 89]\n",
    "odd_result = [value for value in my_list if value % 2 == 1]\n",
    "print(odd_result)\n"
   ]
  },
  {
   "cell_type": "code",
   "execution_count": 11,
   "metadata": {},
   "outputs": [
    {
     "name": "stdout",
     "output_type": "stream",
     "text": [
      "['U', 'R', 'A', 'I', 'C', 'P', 'R']\n"
     ]
    }
   ],
   "source": [
    "my_string = 'JuraSSic pArK'\n",
    "upper_result = [x.upper() for x in my_string if x.islower()]\n",
    "print(upper_result)"
   ]
  },
  {
   "cell_type": "code",
   "execution_count": 15,
   "metadata": {},
   "outputs": [
    {
     "name": "stdout",
     "output_type": "stream",
     "text": [
      "['nose', 'hair', 'fair', 'eyes']\n"
     ]
    }
   ],
   "source": [
    "string_list = ['chubby', 'cheeks', 'nose', 'curly', 'hair', 'fair', 'eyes']\n",
    "len_result = [x for x in string_list if len(x)<5]\n",
    "print(len_result)"
   ]
  }
 ],
 "metadata": {
  "kernelspec": {
   "display_name": "Python 3",
   "language": "python",
   "name": "python3"
  },
  "language_info": {
   "codemirror_mode": {
    "name": "ipython",
    "version": 3
   },
   "file_extension": ".py",
   "mimetype": "text/x-python",
   "name": "python",
   "nbconvert_exporter": "python",
   "pygments_lexer": "ipython3",
   "version": "3.11.5"
  }
 },
 "nbformat": 4,
 "nbformat_minor": 2
}
