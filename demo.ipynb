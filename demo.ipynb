{
 "cells": [
  {
   "cell_type": "code",
   "execution_count": 80,
   "metadata": {},
   "outputs": [
    {
     "name": "stdout",
     "output_type": "stream",
     "text": [
      "['Twinkle', 'twinkle', 'little', 'star']\n",
      "[1, 2, 3, 4, 5]\n",
      "[1, 2, 'buckle my shoe', 3, 4, 'shut the door']\n",
      "['Twinkle', 'twinkle', 'little', 'star', 1, 2, 3, 4, 5]\n",
      "[['Twinkle', 'twinkle', 'little', 'star'], [1, 2, 3, 4, 5], 45, 'Alice']\n",
      "4\n"
     ]
    }
   ],
   "source": [
    "list1 = [\"Twinkle\", \"twinkle\", \"little\", \"star\"]\n",
    "list2 = [1, 2, 3, 4, 5]\n",
    "list3 = [1, 2, \"buckle my shoe\", 3, 4, \"shut the door\"]\n",
    "\n",
    "combined_list = list1 + list2\n",
    "nested_list = [list1, list2, 45, 'Alice']\n",
    "\n",
    "print(list1)\n",
    "print(list2)\n",
    "print(list3)\n",
    "print(combined_list)\n",
    "print(nested_list)\n",
    "\n",
    "list_len = len(nested_list)\n",
    "print(list_len)\n"
   ]
  },
  {
   "cell_type": "code",
   "execution_count": 13,
   "metadata": {},
   "outputs": [
    {
     "name": "stdout",
     "output_type": "stream",
     "text": [
      "9\n",
      "['Twinkle', 'twinkle', 'little']\n",
      "['Twinkle', 'twinkle', 'little']\n",
      "['star', 1, 2, 3, 4, 5]\n",
      "5\n",
      "['Twinkle', 'twinkle', 'little', 'star', 1, 2]\n",
      "[3, 4, 5]\n",
      "['Twinkle', 'twinkle', 'little', 'star', 1, 2, 3, 4, 5]\n",
      "The searched element is in the list\n"
     ]
    }
   ],
   "source": [
    "\n",
    "#combined_list = ['Twinkle', 'twinkle', 'little', 'star', 1, 2, 3, 4, 5]\n",
    "\n",
    "#List length\n",
    "list_len = len(nested_list)\n",
    "print(list_len)\n",
    "\n",
    "#Slicing list\n",
    "slice1 = combined_list[:3]\n",
    "print(slice1)\n",
    "\n",
    "slice2 = combined_list[0:3]\n",
    "print(slice2)\n",
    "\n",
    "#combined_list = ['Twinkle', 'twinkle', 'little', 'star', 1, 2, 3, 4, 5]\n",
    "slice3 = combined_list[3:]\n",
    "print(slice3)\n",
    "\n",
    "slice4 = combined_list[-1]\n",
    "print(slice4)\n",
    "\n",
    "slice5 = combined_list[:-3]\n",
    "print(slice5)\n",
    "\n",
    "slice6 = combined_list[-3:]\n",
    "print(slice6)\n",
    "\n",
    "copy_of_list = combined_list # OR copy_of_list = combined_list[:]\n",
    "print(copy_of_list)\n",
    "\n",
    "print(\"The searched element is in the list\") if 'Twinkle' in combined_list else print(\"The searched element is not in the list\")"
   ]
  },
  {
   "cell_type": "markdown",
   "metadata": {},
   "source": [
    "Adding an element to an existing list, besides combining two already existing lists"
   ]
  },
  {
   "cell_type": "code",
   "execution_count": 91,
   "metadata": {},
   "outputs": [
    {
     "name": "stdout",
     "output_type": "stream",
     "text": [
      "[22, 11, 28, 20, 12, 3]\n",
      "None\n",
      "None\n",
      "[22, 11, 28, 20, 12, 3, 22, 11, 28, 20, 12, 3, 20, 12, 3, 35]\n",
      "None\n",
      "[1, 2, 15, 3]\n"
     ]
    }
   ],
   "source": [
    "list3 = [22, 11, 28]\n",
    "\n",
    "list3.extend([20, 12, 3]) # Same as list3 + [20, 12, 3] \n",
    "print(list3)\n",
    "print(list3.extend(list3))\n",
    "\n",
    "#The following will not work, because extend() modifies a list in-place. \n",
    "list4 = list3.extend([20, 12, 3])\n",
    "print(list4) # This will only return 'None'\n",
    "\n",
    "# Adding only one element to a list\n",
    "list3.append(35)\n",
    "print(list3)\n",
    "\n",
    "# The following also will not work the way we expect it to. It will only return None\n",
    "new_list = list3.append(62)\n",
    "print(new_list)\n",
    "\n",
    "some_list = [1, 2, 3]\n",
    "# Inserting an element to a specific place\n",
    "new_list5 = some_list.insert(2, 15)\n",
    "print(some_list)\n",
    "\n",
    "\n",
    "mixed_list = [\"Jack\", \"Jill\", 1, 2, 3, \"Billy\"]\n",
    "mixed_list.append(22)\n",
    "#print(mixed_list)\n",
    "\n",
    "# Inserting an element to a specific place\n",
    "#new_list = list3.insert(4, 15)\n",
    "#print(new_list)"
   ]
  },
  {
   "cell_type": "markdown",
   "metadata": {},
   "source": [
    "Removing from a list:"
   ]
  },
  {
   "cell_type": "code",
   "execution_count": 92,
   "metadata": {},
   "outputs": [
    {
     "name": "stdout",
     "output_type": "stream",
     "text": [
      "After popping: [22, 11, 20, 12, 3, 22, 11, 28, 20, 12, 3, 20, 12, 3, 35, 62]\n"
     ]
    },
    {
     "ename": "ValueError",
     "evalue": "list.remove(x): x not in list",
     "output_type": "error",
     "traceback": [
      "\u001b[0;31m---------------------------------------------------------------------------\u001b[0m",
      "\u001b[0;31mValueError\u001b[0m                                Traceback (most recent call last)",
      "Cell \u001b[0;32mIn[92], line 4\u001b[0m\n\u001b[1;32m      1\u001b[0m list3\u001b[38;5;241m.\u001b[39mpop(\u001b[38;5;241m2\u001b[39m)\n\u001b[1;32m      2\u001b[0m \u001b[38;5;28mprint\u001b[39m(\u001b[38;5;124mf\u001b[39m\u001b[38;5;124m\"\u001b[39m\u001b[38;5;124mAfter popping: \u001b[39m\u001b[38;5;132;01m{\u001b[39;00mlist3\u001b[38;5;132;01m}\u001b[39;00m\u001b[38;5;124m\"\u001b[39m)\n\u001b[0;32m----> 4\u001b[0m \u001b[43mlist3\u001b[49m\u001b[38;5;241;43m.\u001b[39;49m\u001b[43mremove\u001b[49m\u001b[43m(\u001b[49m\u001b[38;5;241;43m13\u001b[39;49m\u001b[43m)\u001b[49m\n\u001b[1;32m      5\u001b[0m \u001b[38;5;28mprint\u001b[39m(\u001b[38;5;124mf\u001b[39m\u001b[38;5;124m\"\u001b[39m\u001b[38;5;124mAfter removing a specific value: \u001b[39m\u001b[38;5;132;01m{\u001b[39;00mlist3\u001b[38;5;132;01m}\u001b[39;00m\u001b[38;5;124m\"\u001b[39m)\n",
      "\u001b[0;31mValueError\u001b[0m: list.remove(x): x not in list"
     ]
    }
   ],
   "source": [
    "\n",
    "list3.pop(2)\n",
    "print(f\"After popping: {list3}\")\n",
    "\n",
    "list3.remove(13)\n",
    "print(f\"After removing a specific value: {list3}\")"
   ]
  },
  {
   "cell_type": "markdown",
   "metadata": {},
   "source": [
    "Sorting a list"
   ]
  },
  {
   "cell_type": "code",
   "execution_count": 99,
   "metadata": {},
   "outputs": [
    {
     "name": "stdout",
     "output_type": "stream",
     "text": [
      "['a', 'Sharlock', 'Alice', '22']\n"
     ]
    },
    {
     "ename": "TypeError",
     "evalue": "'<' not supported between instances of 'int' and 'str'",
     "output_type": "error",
     "traceback": [
      "\u001b[0;31m---------------------------------------------------------------------------\u001b[0m",
      "\u001b[0;31mTypeError\u001b[0m                                 Traceback (most recent call last)",
      "Cell \u001b[0;32mIn[99], line 5\u001b[0m\n\u001b[1;32m      2\u001b[0m mixed_list_to_sort\u001b[38;5;241m.\u001b[39msort(reverse\u001b[38;5;241m=\u001b[39m\u001b[38;5;28;01mTrue\u001b[39;00m)\n\u001b[1;32m      3\u001b[0m \u001b[38;5;28mprint\u001b[39m(mixed_list_to_sort)\n\u001b[0;32m----> 5\u001b[0m \u001b[43mlist3\u001b[49m\u001b[38;5;241;43m.\u001b[39;49m\u001b[43msort\u001b[49m\u001b[43m(\u001b[49m\u001b[43mreverse\u001b[49m\u001b[43m \u001b[49m\u001b[38;5;241;43m=\u001b[39;49m\u001b[43m \u001b[49m\u001b[38;5;28;43;01mTrue\u001b[39;49;00m\u001b[43m)\u001b[49m\n\u001b[1;32m      6\u001b[0m \u001b[38;5;66;03m#print(list3)\u001b[39;00m\n\u001b[1;32m      8\u001b[0m sorted_list2 \u001b[38;5;241m=\u001b[39m list3\u001b[38;5;241m.\u001b[39msort()\n",
      "\u001b[0;31mTypeError\u001b[0m: '<' not supported between instances of 'int' and 'str'"
     ]
    }
   ],
   "source": [
    "\n",
    "mixed_list_to_sort = ['22', 'Sharlock', \"Alice\", 'a']\n",
    "mixed_list_to_sort.sort(reverse=True) # Will sort based on ASCII values\n",
    "print(mixed_list_to_sort)\n",
    "\n",
    "list3.sort(reverse = True)\n",
    "#print(list3)\n",
    "\n",
    "sorted_list2 = list3.sort()\n",
    "#print(sorted_list2)"
   ]
  },
  {
   "cell_type": "code",
   "execution_count": 78,
   "metadata": {},
   "outputs": [
    {
     "name": "stdout",
     "output_type": "stream",
     "text": [
      "35\n",
      "28\n",
      "22\n",
      "20\n",
      "15\n"
     ]
    }
   ],
   "source": [
    "my_list = [35, 28, 22, 20, 15, 15, 12, 11, 3]\n",
    "a, b, c, d, e = [35, 28, 22, 20, 15]\n",
    "print (a)\n",
    "print (b)\n",
    "print (c)\n",
    "print (d)\n",
    "print (e)"
   ]
  },
  {
   "cell_type": "code",
   "execution_count": 101,
   "metadata": {},
   "outputs": [
    {
     "ename": "ValueError",
     "evalue": "too many values to unpack (expected 4)",
     "output_type": "error",
     "traceback": [
      "\u001b[0;31m---------------------------------------------------------------------------\u001b[0m",
      "\u001b[0;31mValueError\u001b[0m                                Traceback (most recent call last)",
      "Cell \u001b[0;32mIn[101], line 2\u001b[0m\n\u001b[1;32m      1\u001b[0m unpack_a_list \u001b[38;5;241m=\u001b[39m [\u001b[38;5;241m1\u001b[39m, \u001b[38;5;241m2\u001b[39m, \u001b[38;5;241m3\u001b[39m, \u001b[38;5;241m4\u001b[39m, \u001b[38;5;241m5\u001b[39m]\n\u001b[0;32m----> 2\u001b[0m a, b, c, d \u001b[38;5;241m=\u001b[39m unpack_a_list\n\u001b[1;32m      3\u001b[0m \u001b[38;5;28mprint\u001b[39m(a)\n\u001b[1;32m      4\u001b[0m \u001b[38;5;28mprint\u001b[39m(b)\n",
      "\u001b[0;31mValueError\u001b[0m: too many values to unpack (expected 4)"
     ]
    }
   ],
   "source": [
    "unpack_a_list = [1, 2, 3, 4, 5]\n",
    "a, b, c, d, e = unpack_a_list\n",
    "print(a)\n",
    "print(b)\n",
    "print(c)\n",
    "print(d)\n",
    "print(e)\n",
    "\n",
    "\n",
    "var1, var2, var3 = 32, \"Hello\", 'World'"
   ]
  }
 ],
 "metadata": {
  "kernelspec": {
   "display_name": "Python 3",
   "language": "python",
   "name": "python3"
  },
  "language_info": {
   "codemirror_mode": {
    "name": "ipython",
    "version": 3
   },
   "file_extension": ".py",
   "mimetype": "text/x-python",
   "name": "python",
   "nbconvert_exporter": "python",
   "pygments_lexer": "ipython3",
   "version": "3.11.5"
  }
 },
 "nbformat": 4,
 "nbformat_minor": 2
}
